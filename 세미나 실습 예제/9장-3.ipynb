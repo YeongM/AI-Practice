{
 "cells": [
  {
   "cell_type": "code",
   "execution_count": 1,
   "metadata": {},
   "outputs": [
    {
     "name": "stderr",
     "output_type": "stream",
     "text": [
      "<__array_function__ internals>:5: VisibleDeprecationWarning: Creating an ndarray from ragged nested sequences (which is a list-or-tuple of lists-or-tuples-or ndarrays with different lengths or shapes) is deprecated. If you meant to do this, you must specify 'dtype=object' when creating the ndarray\n",
      "C:\\anaconda3\\lib\\site-packages\\tensorflow\\python\\keras\\datasets\\imdb.py:155: VisibleDeprecationWarning: Creating an ndarray from ragged nested sequences (which is a list-or-tuple of lists-or-tuples-or ndarrays with different lengths or shapes) is deprecated. If you meant to do this, you must specify 'dtype=object' when creating the ndarray\n",
      "  x_train, y_train = np.array(xs[:idx]), np.array(labels[:idx])\n",
      "C:\\anaconda3\\lib\\site-packages\\tensorflow\\python\\keras\\datasets\\imdb.py:156: VisibleDeprecationWarning: Creating an ndarray from ragged nested sequences (which is a list-or-tuple of lists-or-tuples-or ndarrays with different lengths or shapes) is deprecated. If you meant to do this, you must specify 'dtype=object' when creating the ndarray\n",
      "  x_test, y_test = np.array(xs[idx:]), np.array(labels[idx:])\n"
     ]
    }
   ],
   "source": [
    "from tensorflow.keras.datasets import imdb\n",
    "from sklearn.model_selection import train_test_split\n",
    "(train_input,train_target),(test_input,test_target)=imdb.load_data(num_words=500)\n",
    "train_input,val_input, train_target, val_target = train_test_split(train_input, train_target, test_size=0.2,random_state=42)"
   ]
  },
  {
   "cell_type": "code",
   "execution_count": 2,
   "metadata": {},
   "outputs": [],
   "source": [
    "from tensorflow.keras.preprocessing.sequence import pad_sequences\n",
    "train_seq = pad_sequences(train_input,maxlen=100)\n",
    "val_seq = pad_sequences(val_input,maxlen=100)"
   ]
  },
  {
   "cell_type": "code",
   "execution_count": 3,
   "metadata": {},
   "outputs": [],
   "source": [
    "from tensorflow import keras\n",
    "model=keras.Sequential()\n",
    "model.add(keras.layers.Embedding(500,16,input_length=100))\n",
    "model.add(keras.layers.LSTM(8))\n",
    "model.add(keras.layers.Dense(1,activation='sigmoid'))"
   ]
  },
  {
   "cell_type": "code",
   "execution_count": 4,
   "metadata": {},
   "outputs": [
    {
     "name": "stdout",
     "output_type": "stream",
     "text": [
      "Model: \"sequential\"\n",
      "_________________________________________________________________\n",
      "Layer (type)                 Output Shape              Param #   \n",
      "=================================================================\n",
      "embedding (Embedding)        (None, 100, 16)           8000      \n",
      "_________________________________________________________________\n",
      "lstm (LSTM)                  (None, 8)                 800       \n",
      "_________________________________________________________________\n",
      "dense (Dense)                (None, 1)                 9         \n",
      "=================================================================\n",
      "Total params: 8,809\n",
      "Trainable params: 8,809\n",
      "Non-trainable params: 0\n",
      "_________________________________________________________________\n"
     ]
    }
   ],
   "source": [
    "model.summary()"
   ]
  },
  {
   "cell_type": "code",
   "execution_count": 5,
   "metadata": {},
   "outputs": [
    {
     "name": "stdout",
     "output_type": "stream",
     "text": [
      "Epoch 1/100\n",
      "313/313 [==============================] - 8s 20ms/step - loss: 0.6925 - accuracy: 0.5594 - val_loss: 0.6920 - val_accuracy: 0.5878\n",
      "Epoch 2/100\n",
      "313/313 [==============================] - 6s 19ms/step - loss: 0.6908 - accuracy: 0.6181 - val_loss: 0.6895 - val_accuracy: 0.6362\n",
      "Epoch 3/100\n",
      "313/313 [==============================] - 6s 18ms/step - loss: 0.6864 - accuracy: 0.6610 - val_loss: 0.6826 - val_accuracy: 0.6772\n",
      "Epoch 4/100\n",
      "313/313 [==============================] - 6s 20ms/step - loss: 0.6657 - accuracy: 0.7030 - val_loss: 0.6382 - val_accuracy: 0.7110\n",
      "Epoch 5/100\n",
      "313/313 [==============================] - 6s 19ms/step - loss: 0.6162 - accuracy: 0.7055 - val_loss: 0.6072 - val_accuracy: 0.7060\n",
      "Epoch 6/100\n",
      "313/313 [==============================] - 6s 19ms/step - loss: 0.5913 - accuracy: 0.7237 - val_loss: 0.5866 - val_accuracy: 0.7260\n",
      "Epoch 7/100\n",
      "313/313 [==============================] - 6s 18ms/step - loss: 0.5699 - accuracy: 0.7407 - val_loss: 0.5667 - val_accuracy: 0.7416\n",
      "Epoch 8/100\n",
      "313/313 [==============================] - 6s 19ms/step - loss: 0.5502 - accuracy: 0.7570 - val_loss: 0.5486 - val_accuracy: 0.7496\n",
      "Epoch 9/100\n",
      "313/313 [==============================] - 6s 19ms/step - loss: 0.5319 - accuracy: 0.7675 - val_loss: 0.5301 - val_accuracy: 0.7638\n",
      "Epoch 10/100\n",
      "313/313 [==============================] - 6s 18ms/step - loss: 0.5151 - accuracy: 0.7757 - val_loss: 0.5157 - val_accuracy: 0.7660\n",
      "Epoch 11/100\n",
      "313/313 [==============================] - 6s 18ms/step - loss: 0.5001 - accuracy: 0.7832 - val_loss: 0.5023 - val_accuracy: 0.7760\n",
      "Epoch 12/100\n",
      "313/313 [==============================] - 6s 19ms/step - loss: 0.4875 - accuracy: 0.7898 - val_loss: 0.4917 - val_accuracy: 0.7810\n",
      "Epoch 13/100\n",
      "313/313 [==============================] - 6s 19ms/step - loss: 0.4761 - accuracy: 0.7945 - val_loss: 0.4824 - val_accuracy: 0.7850\n",
      "Epoch 14/100\n",
      "313/313 [==============================] - 6s 18ms/step - loss: 0.4662 - accuracy: 0.7980 - val_loss: 0.4732 - val_accuracy: 0.7924\n",
      "Epoch 15/100\n",
      "313/313 [==============================] - 6s 18ms/step - loss: 0.4581 - accuracy: 0.8015 - val_loss: 0.4692 - val_accuracy: 0.7880\n",
      "Epoch 16/100\n",
      "313/313 [==============================] - 6s 18ms/step - loss: 0.4509 - accuracy: 0.8038 - val_loss: 0.4613 - val_accuracy: 0.7966\n",
      "Epoch 17/100\n",
      "313/313 [==============================] - 6s 18ms/step - loss: 0.4453 - accuracy: 0.8059 - val_loss: 0.4565 - val_accuracy: 0.7992\n",
      "Epoch 18/100\n",
      "313/313 [==============================] - 6s 19ms/step - loss: 0.4401 - accuracy: 0.8074 - val_loss: 0.4534 - val_accuracy: 0.7980\n",
      "Epoch 19/100\n",
      "313/313 [==============================] - 6s 19ms/step - loss: 0.4355 - accuracy: 0.8080 - val_loss: 0.4514 - val_accuracy: 0.7944\n",
      "Epoch 20/100\n",
      "313/313 [==============================] - 6s 18ms/step - loss: 0.4318 - accuracy: 0.8095 - val_loss: 0.4495 - val_accuracy: 0.8006\n",
      "Epoch 21/100\n",
      "313/313 [==============================] - 6s 18ms/step - loss: 0.4290 - accuracy: 0.8102 - val_loss: 0.4453 - val_accuracy: 0.7992\n",
      "Epoch 22/100\n",
      "313/313 [==============================] - 6s 18ms/step - loss: 0.4265 - accuracy: 0.8105 - val_loss: 0.4467 - val_accuracy: 0.7976\n",
      "Epoch 23/100\n",
      "313/313 [==============================] - 6s 18ms/step - loss: 0.4243 - accuracy: 0.8123 - val_loss: 0.4428 - val_accuracy: 0.8004\n",
      "Epoch 24/100\n",
      "313/313 [==============================] - 6s 20ms/step - loss: 0.4222 - accuracy: 0.8119 - val_loss: 0.4413 - val_accuracy: 0.7984\n",
      "Epoch 25/100\n",
      "313/313 [==============================] - 6s 18ms/step - loss: 0.4208 - accuracy: 0.8119 - val_loss: 0.4425 - val_accuracy: 0.7992\n",
      "Epoch 26/100\n",
      "313/313 [==============================] - 6s 18ms/step - loss: 0.4187 - accuracy: 0.8139 - val_loss: 0.4404 - val_accuracy: 0.7978\n",
      "Epoch 27/100\n",
      "313/313 [==============================] - 6s 18ms/step - loss: 0.4175 - accuracy: 0.8124 - val_loss: 0.4381 - val_accuracy: 0.8024\n",
      "Epoch 28/100\n",
      "313/313 [==============================] - 6s 18ms/step - loss: 0.4162 - accuracy: 0.8134 - val_loss: 0.4399 - val_accuracy: 0.8004\n",
      "Epoch 29/100\n",
      "313/313 [==============================] - 6s 18ms/step - loss: 0.4147 - accuracy: 0.8140 - val_loss: 0.4399 - val_accuracy: 0.7922\n",
      "Epoch 30/100\n",
      "313/313 [==============================] - 6s 19ms/step - loss: 0.4140 - accuracy: 0.8127 - val_loss: 0.4412 - val_accuracy: 0.8012\n"
     ]
    }
   ],
   "source": [
    "rmsprop=keras.optimizers.RMSprop(learning_rate=0.0001)\n",
    "model.compile(optimizer=rmsprop,loss='binary_crossentropy',metrics=['accuracy'])\n",
    "checkpoint_cb=keras.callbacks.ModelCheckpoint('best-lstm-model.h5')\n",
    "early_stopping_cb=keras.callbacks.EarlyStopping(patience=3,restore_best_weights=True)\n",
    "history=model.fit(train_seq,train_target,epochs=100,batch_size=64,validation_data=(val_seq,val_target),callbacks=[checkpoint_cb,early_stopping_cb])"
   ]
  },
  {
   "cell_type": "code",
   "execution_count": 6,
   "metadata": {},
   "outputs": [
    {
     "data": {
      "image/png": "[encoded data removed]",
      "text/plain": [
       "<Figure size 432x288 with 1 Axes>"
      ]
     },
     "metadata": {
      "needs_background": "light"
     },
     "output_type": "display_data"
    }
   ],
   "source": [
    "import matplotlib.pyplot as plt\n",
    "plt.plot(history.history['loss'])\n",
    "plt.plot(history.history['val_loss'])\n",
    "plt.legend(['train','val'])\n",
    "plt.show()"
   ]
  },
  {
   "cell_type": "code",
   "execution_count": 7,
   "metadata": {},
   "outputs": [],
   "source": [
    "model2= keras.Sequential()\n",
    "model2.add(keras.layers.Embedding(500,16,input_length=100))\n",
    "model2.add(keras.layers.LSTM(8,dropout=0.3))\n",
    "model2.add(keras.layers.Dense(1,activation='sigmoid'))"
   ]
  },
  {
   "cell_type": "code",
   "execution_count": 8,
   "metadata": {},
   "outputs": [
    {
     "name": "stdout",
     "output_type": "stream",
     "text": [
      "Epoch 1/100\n",
      "313/313 [==============================] - 8s 21ms/step - loss: 0.6928 - accuracy: 0.5183 - val_loss: 0.6925 - val_accuracy: 0.5340\n",
      "Epoch 2/100\n",
      "313/313 [==============================] - 6s 21ms/step - loss: 0.6912 - accuracy: 0.5664 - val_loss: 0.6906 - val_accuracy: 0.5696\n",
      "Epoch 3/100\n",
      "313/313 [==============================] - 6s 20ms/step - loss: 0.6880 - accuracy: 0.6031 - val_loss: 0.6865 - val_accuracy: 0.5904\n",
      "Epoch 4/100\n",
      "313/313 [==============================] - 6s 20ms/step - loss: 0.6805 - accuracy: 0.6405 - val_loss: 0.6758 - val_accuracy: 0.6306\n",
      "Epoch 5/100\n",
      "313/313 [==============================] - 6s 20ms/step - loss: 0.6598 - accuracy: 0.6928 - val_loss: 0.6426 - val_accuracy: 0.7274\n",
      "Epoch 6/100\n",
      "313/313 [==============================] - 6s 20ms/step - loss: 0.6206 - accuracy: 0.7308 - val_loss: 0.6079 - val_accuracy: 0.7258\n",
      "Epoch 7/100\n",
      "313/313 [==============================] - 6s 20ms/step - loss: 0.5937 - accuracy: 0.7303 - val_loss: 0.5861 - val_accuracy: 0.7286\n",
      "Epoch 8/100\n",
      "313/313 [==============================] - 6s 20ms/step - loss: 0.5709 - accuracy: 0.7408 - val_loss: 0.5634 - val_accuracy: 0.7376\n",
      "Epoch 9/100\n",
      "313/313 [==============================] - 6s 20ms/step - loss: 0.5494 - accuracy: 0.7491 - val_loss: 0.5416 - val_accuracy: 0.7552\n",
      "Epoch 10/100\n",
      "313/313 [==============================] - 6s 20ms/step - loss: 0.5291 - accuracy: 0.7623 - val_loss: 0.5233 - val_accuracy: 0.7596\n",
      "Epoch 11/100\n",
      "313/313 [==============================] - 6s 20ms/step - loss: 0.5135 - accuracy: 0.7682 - val_loss: 0.5075 - val_accuracy: 0.7710\n",
      "Epoch 12/100\n",
      "313/313 [==============================] - 6s 20ms/step - loss: 0.4983 - accuracy: 0.7774 - val_loss: 0.4947 - val_accuracy: 0.7762\n",
      "Epoch 13/100\n",
      "313/313 [==============================] - 6s 20ms/step - loss: 0.4870 - accuracy: 0.7836 - val_loss: 0.4848 - val_accuracy: 0.7810\n",
      "Epoch 14/100\n",
      "313/313 [==============================] - 6s 20ms/step - loss: 0.4760 - accuracy: 0.7883 - val_loss: 0.4786 - val_accuracy: 0.7810\n",
      "Epoch 15/100\n",
      "313/313 [==============================] - 6s 20ms/step - loss: 0.4697 - accuracy: 0.7893 - val_loss: 0.4704 - val_accuracy: 0.7870\n",
      "Epoch 16/100\n",
      "313/313 [==============================] - 6s 20ms/step - loss: 0.4612 - accuracy: 0.7926 - val_loss: 0.4667 - val_accuracy: 0.7878\n",
      "Epoch 17/100\n",
      "313/313 [==============================] - 6s 20ms/step - loss: 0.4555 - accuracy: 0.7962 - val_loss: 0.4605 - val_accuracy: 0.7924\n",
      "Epoch 18/100\n",
      "313/313 [==============================] - 7s 22ms/step - loss: 0.4503 - accuracy: 0.7990 - val_loss: 0.4568 - val_accuracy: 0.7932\n",
      "Epoch 19/100\n",
      "313/313 [==============================] - 7s 22ms/step - loss: 0.4481 - accuracy: 0.7995 - val_loss: 0.4533 - val_accuracy: 0.7956\n",
      "Epoch 20/100\n",
      "313/313 [==============================] - 7s 22ms/step - loss: 0.4438 - accuracy: 0.8002 - val_loss: 0.4506 - val_accuracy: 0.7950\n",
      "Epoch 21/100\n",
      "313/313 [==============================] - 6s 20ms/step - loss: 0.4413 - accuracy: 0.8037 - val_loss: 0.4482 - val_accuracy: 0.7962\n",
      "Epoch 22/100\n",
      "313/313 [==============================] - 6s 20ms/step - loss: 0.4383 - accuracy: 0.8023 - val_loss: 0.4461 - val_accuracy: 0.7962\n",
      "Epoch 23/100\n",
      "313/313 [==============================] - 6s 20ms/step - loss: 0.4348 - accuracy: 0.8052 - val_loss: 0.4436 - val_accuracy: 0.7962\n",
      "Epoch 24/100\n",
      "313/313 [==============================] - 6s 20ms/step - loss: 0.4330 - accuracy: 0.8041 - val_loss: 0.4423 - val_accuracy: 0.7976\n",
      "Epoch 25/100\n",
      "313/313 [==============================] - 6s 20ms/step - loss: 0.4299 - accuracy: 0.8087 - val_loss: 0.4405 - val_accuracy: 0.7990\n",
      "Epoch 26/100\n",
      "313/313 [==============================] - 6s 21ms/step - loss: 0.4298 - accuracy: 0.8055 - val_loss: 0.4396 - val_accuracy: 0.7990\n",
      "Epoch 27/100\n",
      "313/313 [==============================] - 6s 20ms/step - loss: 0.4282 - accuracy: 0.8062 - val_loss: 0.4419 - val_accuracy: 0.7960\n",
      "Epoch 28/100\n",
      "313/313 [==============================] - 6s 20ms/step - loss: 0.4259 - accuracy: 0.8085 - val_loss: 0.4416 - val_accuracy: 0.7984\n",
      "Epoch 29/100\n",
      "313/313 [==============================] - 6s 20ms/step - loss: 0.4248 - accuracy: 0.8095 - val_loss: 0.4366 - val_accuracy: 0.7996\n",
      "Epoch 30/100\n",
      "313/313 [==============================] - 7s 21ms/step - loss: 0.4234 - accuracy: 0.8110 - val_loss: 0.4368 - val_accuracy: 0.8006\n",
      "Epoch 31/100\n",
      "313/313 [==============================] - 6s 21ms/step - loss: 0.4226 - accuracy: 0.8101 - val_loss: 0.4362 - val_accuracy: 0.8036\n",
      "Epoch 32/100\n",
      "313/313 [==============================] - 6s 20ms/step - loss: 0.4214 - accuracy: 0.8095 - val_loss: 0.4335 - val_accuracy: 0.7988\n",
      "Epoch 33/100\n",
      "313/313 [==============================] - 6s 20ms/step - loss: 0.4199 - accuracy: 0.8106 - val_loss: 0.4324 - val_accuracy: 0.8006\n",
      "Epoch 34/100\n",
      "313/313 [==============================] - 7s 21ms/step - loss: 0.4197 - accuracy: 0.8087 - val_loss: 0.4317 - val_accuracy: 0.8044\n",
      "Epoch 35/100\n",
      "313/313 [==============================] - 7s 21ms/step - loss: 0.4177 - accuracy: 0.8120 - val_loss: 0.4324 - val_accuracy: 0.7996\n",
      "Epoch 36/100\n",
      "313/313 [==============================] - 7s 21ms/step - loss: 0.4160 - accuracy: 0.8120 - val_loss: 0.4305 - val_accuracy: 0.8030\n",
      "Epoch 37/100\n",
      "313/313 [==============================] - 6s 20ms/step - loss: 0.4164 - accuracy: 0.8140 - val_loss: 0.4304 - val_accuracy: 0.8020\n",
      "Epoch 38/100\n",
      "313/313 [==============================] - 6s 20ms/step - loss: 0.4163 - accuracy: 0.8091 - val_loss: 0.4299 - val_accuracy: 0.8026\n",
      "Epoch 39/100\n",
      "313/313 [==============================] - 6s 20ms/step - loss: 0.4150 - accuracy: 0.8111 - val_loss: 0.4288 - val_accuracy: 0.8066\n",
      "Epoch 40/100\n",
      "313/313 [==============================] - 6s 20ms/step - loss: 0.4149 - accuracy: 0.8134 - val_loss: 0.4294 - val_accuracy: 0.8012\n",
      "Epoch 41/100\n",
      "313/313 [==============================] - 6s 20ms/step - loss: 0.4118 - accuracy: 0.8156 - val_loss: 0.4278 - val_accuracy: 0.8056\n",
      "Epoch 42/100\n",
      "313/313 [==============================] - 6s 20ms/step - loss: 0.4136 - accuracy: 0.8115 - val_loss: 0.4271 - val_accuracy: 0.8046\n",
      "Epoch 43/100\n",
      "313/313 [==============================] - 6s 20ms/step - loss: 0.4116 - accuracy: 0.8128 - val_loss: 0.4271 - val_accuracy: 0.8074\n",
      "Epoch 44/100\n",
      "313/313 [==============================] - 6s 20ms/step - loss: 0.4113 - accuracy: 0.8145 - val_loss: 0.4269 - val_accuracy: 0.8084\n",
      "Epoch 45/100\n",
      "313/313 [==============================] - 6s 20ms/step - loss: 0.4104 - accuracy: 0.8130 - val_loss: 0.4265 - val_accuracy: 0.8080\n",
      "Epoch 46/100\n",
      "313/313 [==============================] - 6s 20ms/step - loss: 0.4100 - accuracy: 0.8138 - val_loss: 0.4265 - val_accuracy: 0.8058\n",
      "Epoch 47/100\n",
      "313/313 [==============================] - 7s 21ms/step - loss: 0.4089 - accuracy: 0.8161 - val_loss: 0.4262 - val_accuracy: 0.8052\n",
      "Epoch 48/100\n",
      "313/313 [==============================] - 6s 20ms/step - loss: 0.4091 - accuracy: 0.8145 - val_loss: 0.4249 - val_accuracy: 0.8072\n",
      "Epoch 49/100\n",
      "313/313 [==============================] - 6s 20ms/step - loss: 0.4071 - accuracy: 0.8156 - val_loss: 0.4264 - val_accuracy: 0.8042\n",
      "Epoch 50/100\n",
      "313/313 [==============================] - 6s 20ms/step - loss: 0.4075 - accuracy: 0.8144 - val_loss: 0.4266 - val_accuracy: 0.8070\n",
      "Epoch 51/100\n",
      "313/313 [==============================] - 7s 22ms/step - loss: 0.4063 - accuracy: 0.8170 - val_loss: 0.4251 - val_accuracy: 0.8066\n"
     ]
    }
   ],
   "source": [
    "rmsprop=keras.optimizers.RMSprop(learning_rate=0.0001)\n",
    "model2.compile(optimizer=rmsprop,loss='binary_crossentropy',metrics=['accuracy'])\n",
    "checkpoint_cb=keras.callbacks.ModelCheckpoint('best-dropout-model.h5')\n",
    "early_stopping_cb=keras.callbacks.EarlyStopping(patience=3,restore_best_weights=True)\n",
    "history=model2.fit(train_seq,train_target,epochs=100,batch_size=64,validation_data=(val_seq,val_target),callbacks=[checkpoint_cb,early_stopping_cb])"
   ]
  },
  {
   "cell_type": "code",
   "execution_count": null,
   "metadata": {},
   "outputs": [],
   "source": [
    "plt.plot(history.history['loss'])\n",
    "plt.plot(history.history['val_loss'])\n",
    "plt.legend(['train','val'])\n",
    "plt.show()"
   ]
  }
 ],
 "metadata": {
  "kernelspec": {
   "display_name": "Python 3",
   "language": "python",
   "name": "python3"
  },
  "language_info": {
   "codemirror_mode": {
    "name": "ipython",
    "version": 3
   },
   "file_extension": ".py",
   "mimetype": "text/x-python",
   "name": "python",
   "nbconvert_exporter": "python",
   "pygments_lexer": "ipython3",
   "version": "3.8.5"
  }
 },
 "nbformat": 4,
 "nbformat_minor": 4
}
