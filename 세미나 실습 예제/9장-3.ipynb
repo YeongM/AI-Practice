{
 "cells": [
  {
   "cell_type": "code",
   "execution_count": 1,
   "metadata": {
    "scrolled": true
   },
   "outputs": [
    {
     "name": "stderr",
     "output_type": "stream",
     "text": [
      "<__array_function__ internals>:5: VisibleDeprecationWarning: Creating an ndarray from ragged nested sequences (which is a list-or-tuple of lists-or-tuples-or ndarrays with different lengths or shapes) is deprecated. If you meant to do this, you must specify 'dtype=object' when creating the ndarray\n",
      "C:\\anaconda3\\lib\\site-packages\\tensorflow\\python\\keras\\datasets\\imdb.py:155: VisibleDeprecationWarning: Creating an ndarray from ragged nested sequences (which is a list-or-tuple of lists-or-tuples-or ndarrays with different lengths or shapes) is deprecated. If you meant to do this, you must specify 'dtype=object' when creating the ndarray\n",
      "  x_train, y_train = np.array(xs[:idx]), np.array(labels[:idx])\n",
      "C:\\anaconda3\\lib\\site-packages\\tensorflow\\python\\keras\\datasets\\imdb.py:156: VisibleDeprecationWarning: Creating an ndarray from ragged nested sequences (which is a list-or-tuple of lists-or-tuples-or ndarrays with different lengths or shapes) is deprecated. If you meant to do this, you must specify 'dtype=object' when creating the ndarray\n",
      "  x_test, y_test = np.array(xs[idx:]), np.array(labels[idx:])\n"
     ]
    }
   ],
   "source": [
    "from tensorflow.keras.datasets import imdb\n",
    "from sklearn.model_selection import train_test_split\n",
    "(train_input,train_target),(test_input,test_target)=imdb.load_data(num_words=500)\n",
    "train_input,val_input, train_target, val_target = train_test_split(train_input, train_target, test_size=0.2,random_state=42)"
   ]
  },
  {
   "cell_type": "code",
   "execution_count": 2,
   "metadata": {},
   "outputs": [],
   "source": [
    "from tensorflow.keras.preprocessing.sequence import pad_sequences\n",
    "train_seq = pad_sequences(train_input,maxlen=100)\n",
    "val_seq = pad_sequences(val_input,maxlen=100)"
   ]
  },
  {
   "cell_type": "code",
   "execution_count": 3,
   "metadata": {},
   "outputs": [],
   "source": [
    "from tensorflow import keras\n",
    "model=keras.Sequential()\n",
    "model.add(keras.layers.Embedding(500,16,input_length=100))\n",
    "model.add(keras.layers.LSTM(8))\n",
    "model.add(keras.layers.Dense(1,activation='sigmoid'))"
   ]
  },
  {
   "cell_type": "code",
   "execution_count": 4,
   "metadata": {},
   "outputs": [
    {
     "name": "stdout",
     "output_type": "stream",
     "text": [
      "Model: \"sequential\"\n",
      "_________________________________________________________________\n",
      "Layer (type)                 Output Shape              Param #   \n",
      "=================================================================\n",
      "embedding (Embedding)        (None, 100, 16)           8000      \n",
      "_________________________________________________________________\n",
      "lstm (LSTM)                  (None, 8)                 800       \n",
      "_________________________________________________________________\n",
      "dense (Dense)                (None, 1)                 9         \n",
      "=================================================================\n",
      "Total params: 8,809\n",
      "Trainable params: 8,809\n",
      "Non-trainable params: 0\n",
      "_________________________________________________________________\n"
     ]
    }
   ],
   "source": [
    "model.summary()"
   ]
  },
  {
   "cell_type": "code",
   "execution_count": 5,
   "metadata": {},
   "outputs": [
    {
     "name": "stdout",
     "output_type": "stream",
     "text": [
      "Epoch 1/100\n",
      "313/313 [==============================] - 8s 20ms/step - loss: 0.6925 - accuracy: 0.5594 - val_loss: 0.6920 - val_accuracy: 0.5878\n",
      "Epoch 2/100\n",
      "313/313 [==============================] - 6s 19ms/step - loss: 0.6908 - accuracy: 0.6181 - val_loss: 0.6895 - val_accuracy: 0.6362\n",
      "Epoch 3/100\n",
      "313/313 [==============================] - 6s 18ms/step - loss: 0.6864 - accuracy: 0.6610 - val_loss: 0.6826 - val_accuracy: 0.6772\n",
      "Epoch 4/100\n",
      "313/313 [==============================] - 6s 20ms/step - loss: 0.6657 - accuracy: 0.7030 - val_loss: 0.6382 - val_accuracy: 0.7110\n",
      "Epoch 5/100\n",
      "313/313 [==============================] - 6s 19ms/step - loss: 0.6162 - accuracy: 0.7055 - val_loss: 0.6072 - val_accuracy: 0.7060\n",
      "Epoch 6/100\n",
      "313/313 [==============================] - 6s 19ms/step - loss: 0.5913 - accuracy: 0.7237 - val_loss: 0.5866 - val_accuracy: 0.7260\n",
      "Epoch 7/100\n",
      "313/313 [==============================] - 6s 18ms/step - loss: 0.5699 - accuracy: 0.7407 - val_loss: 0.5667 - val_accuracy: 0.7416\n",
      "Epoch 8/100\n",
      "313/313 [==============================] - 6s 19ms/step - loss: 0.5502 - accuracy: 0.7570 - val_loss: 0.5486 - val_accuracy: 0.7496\n",
      "Epoch 9/100\n",
      "313/313 [==============================] - 6s 19ms/step - loss: 0.5319 - accuracy: 0.7675 - val_loss: 0.5301 - val_accuracy: 0.7638\n",
      "Epoch 10/100\n",
      "313/313 [==============================] - 6s 18ms/step - loss: 0.5151 - accuracy: 0.7757 - val_loss: 0.5157 - val_accuracy: 0.7660\n",
      "Epoch 11/100\n",
      "313/313 [==============================] - 6s 18ms/step - loss: 0.5001 - accuracy: 0.7832 - val_loss: 0.5023 - val_accuracy: 0.7760\n",
      "Epoch 12/100\n",
      "313/313 [==============================] - 6s 19ms/step - loss: 0.4875 - accuracy: 0.7898 - val_loss: 0.4917 - val_accuracy: 0.7810\n",
      "Epoch 13/100\n",
      "313/313 [==============================] - 6s 19ms/step - loss: 0.4761 - accuracy: 0.7945 - val_loss: 0.4824 - val_accuracy: 0.7850\n",
      "Epoch 14/100\n",
      "313/313 [==============================] - 6s 18ms/step - loss: 0.4662 - accuracy: 0.7980 - val_loss: 0.4732 - val_accuracy: 0.7924\n",
      "Epoch 15/100\n",
      "313/313 [==============================] - 6s 18ms/step - loss: 0.4581 - accuracy: 0.8015 - val_loss: 0.4692 - val_accuracy: 0.7880\n",
      "Epoch 16/100\n",
      "313/313 [==============================] - 6s 18ms/step - loss: 0.4509 - accuracy: 0.8038 - val_loss: 0.4613 - val_accuracy: 0.7966\n",
      "Epoch 17/100\n",
      "313/313 [==============================] - 6s 18ms/step - loss: 0.4453 - accuracy: 0.8059 - val_loss: 0.4565 - val_accuracy: 0.7992\n",
      "Epoch 18/100\n",
      "313/313 [==============================] - 6s 19ms/step - loss: 0.4401 - accuracy: 0.8074 - val_loss: 0.4534 - val_accuracy: 0.7980\n",
      "Epoch 19/100\n",
      "313/313 [==============================] - 6s 19ms/step - loss: 0.4355 - accuracy: 0.8080 - val_loss: 0.4514 - val_accuracy: 0.7944\n",
      "Epoch 20/100\n",
      "313/313 [==============================] - 6s 18ms/step - loss: 0.4318 - accuracy: 0.8095 - val_loss: 0.4495 - val_accuracy: 0.8006\n",
      "Epoch 21/100\n",
      "313/313 [==============================] - 6s 18ms/step - loss: 0.4290 - accuracy: 0.8102 - val_loss: 0.4453 - val_accuracy: 0.7992\n",
      "Epoch 22/100\n",
      "313/313 [==============================] - 6s 18ms/step - loss: 0.4265 - accuracy: 0.8105 - val_loss: 0.4467 - val_accuracy: 0.7976\n",
      "Epoch 23/100\n",
      "313/313 [==============================] - 6s 18ms/step - loss: 0.4243 - accuracy: 0.8123 - val_loss: 0.4428 - val_accuracy: 0.8004\n",
      "Epoch 24/100\n",
      "313/313 [==============================] - 6s 20ms/step - loss: 0.4222 - accuracy: 0.8119 - val_loss: 0.4413 - val_accuracy: 0.7984\n",
      "Epoch 25/100\n",
      "313/313 [==============================] - 6s 18ms/step - loss: 0.4208 - accuracy: 0.8119 - val_loss: 0.4425 - val_accuracy: 0.7992\n",
      "Epoch 26/100\n",
      "313/313 [==============================] - 6s 18ms/step - loss: 0.4187 - accuracy: 0.8139 - val_loss: 0.4404 - val_accuracy: 0.7978\n",
      "Epoch 27/100\n",
      "313/313 [==============================] - 6s 18ms/step - loss: 0.4175 - accuracy: 0.8124 - val_loss: 0.4381 - val_accuracy: 0.8024\n",
      "Epoch 28/100\n",
      "313/313 [==============================] - 6s 18ms/step - loss: 0.4162 - accuracy: 0.8134 - val_loss: 0.4399 - val_accuracy: 0.8004\n",
      "Epoch 29/100\n",
      "313/313 [==============================] - 6s 18ms/step - loss: 0.4147 - accuracy: 0.8140 - val_loss: 0.4399 - val_accuracy: 0.7922\n",
      "Epoch 30/100\n",
      "313/313 [==============================] - 6s 19ms/step - loss: 0.4140 - accuracy: 0.8127 - val_loss: 0.4412 - val_accuracy: 0.8012\n"
     ]
    }
   ],
   "source": [
    "rmsprop=keras.optimizers.RMSprop(learning_rate=0.0001)\n",
    "model.compile(optimizer=rmsprop,loss='binary_crossentropy',metrics=['accuracy'])\n",
    "checkpoint_cb=keras.callbacks.ModelCheckpoint('best-lstm-model.h5')\n",
    "early_stopping_cb=keras.callbacks.EarlyStopping(patience=3,restore_best_weights=True)\n",
    "history=model.fit(train_seq,train_target,epochs=100,batch_size=64,validation_data=(val_seq,val_target),callbacks=[checkpoint_cb,early_stopping_cb])"
   ]
  },
  {
   "cell_type": "code",
   "execution_count": 4,
   "metadata": {},
   "outputs": [],
   "source": [
    "import matplotlib.pyplot as plt"
   ]
  },
  {
   "cell_type": "code",
   "execution_count": 6,
   "metadata": {},
   "outputs": [
    {
     "data": {
      "image/png": "[encoded data removed]",
      "text/plain": [
       "<Figure size 432x288 with 1 Axes>"
      ]
     },
     "metadata": {
      "needs_background": "light"
     },
     "output_type": "display_data"
    }
   ],
   "source": [
    "import matplotlib.pyplot as plt\n",
    "plt.plot(history.history['loss'])\n",
    "plt.plot(history.history['val_loss'])\n",
    "plt.legend(['train','val'])\n",
    "plt.show()"
   ]
  },
  {
   "cell_type": "code",
   "execution_count": 7,
   "metadata": {},
   "outputs": [],
   "source": [
    "model2= keras.Sequential()\n",
    "model2.add(keras.layers.Embedding(500,16,input_length=100))\n",
    "model2.add(keras.layers.LSTM(8,dropout=0.3))\n",
    "model2.add(keras.layers.Dense(1,activation='sigmoid'))"
   ]
  },
  {
   "cell_type": "code",
   "execution_count": 8,
   "metadata": {
    "scrolled": true
   },
   "outputs": [
    {
     "name": "stdout",
     "output_type": "stream",
     "text": [
      "Epoch 1/100\n",
      "313/313 [==============================] - 8s 21ms/step - loss: 0.6928 - accuracy: 0.5183 - val_loss: 0.6925 - val_accuracy: 0.5340\n",
      "Epoch 2/100\n",
      "313/313 [==============================] - 6s 21ms/step - loss: 0.6912 - accuracy: 0.5664 - val_loss: 0.6906 - val_accuracy: 0.5696\n",
      "Epoch 3/100\n",
      "313/313 [==============================] - 6s 20ms/step - loss: 0.6880 - accuracy: 0.6031 - val_loss: 0.6865 - val_accuracy: 0.5904\n",
      "Epoch 4/100\n",
      "313/313 [==============================] - 6s 20ms/step - loss: 0.6805 - accuracy: 0.6405 - val_loss: 0.6758 - val_accuracy: 0.6306\n",
      "Epoch 5/100\n",
      "313/313 [==============================] - 6s 20ms/step - loss: 0.6598 - accuracy: 0.6928 - val_loss: 0.6426 - val_accuracy: 0.7274\n",
      "Epoch 6/100\n",
      "313/313 [==============================] - 6s 20ms/step - loss: 0.6206 - accuracy: 0.7308 - val_loss: 0.6079 - val_accuracy: 0.7258\n",
      "Epoch 7/100\n",
      "313/313 [==============================] - 6s 20ms/step - loss: 0.5937 - accuracy: 0.7303 - val_loss: 0.5861 - val_accuracy: 0.7286\n",
      "Epoch 8/100\n",
      "313/313 [==============================] - 6s 20ms/step - loss: 0.5709 - accuracy: 0.7408 - val_loss: 0.5634 - val_accuracy: 0.7376\n",
      "Epoch 9/100\n",
      "313/313 [==============================] - 6s 20ms/step - loss: 0.5494 - accuracy: 0.7491 - val_loss: 0.5416 - val_accuracy: 0.7552\n",
      "Epoch 10/100\n",
      "313/313 [==============================] - 6s 20ms/step - loss: 0.5291 - accuracy: 0.7623 - val_loss: 0.5233 - val_accuracy: 0.7596\n",
      "Epoch 11/100\n",
      "313/313 [==============================] - 6s 20ms/step - loss: 0.5135 - accuracy: 0.7682 - val_loss: 0.5075 - val_accuracy: 0.7710\n",
      "Epoch 12/100\n",
      "313/313 [==============================] - 6s 20ms/step - loss: 0.4983 - accuracy: 0.7774 - val_loss: 0.4947 - val_accuracy: 0.7762\n",
      "Epoch 13/100\n",
      "313/313 [==============================] - 6s 20ms/step - loss: 0.4870 - accuracy: 0.7836 - val_loss: 0.4848 - val_accuracy: 0.7810\n",
      "Epoch 14/100\n",
      "313/313 [==============================] - 6s 20ms/step - loss: 0.4760 - accuracy: 0.7883 - val_loss: 0.4786 - val_accuracy: 0.7810\n",
      "Epoch 15/100\n",
      "313/313 [==============================] - 6s 20ms/step - loss: 0.4697 - accuracy: 0.7893 - val_loss: 0.4704 - val_accuracy: 0.7870\n",
      "Epoch 16/100\n",
      "313/313 [==============================] - 6s 20ms/step - loss: 0.4612 - accuracy: 0.7926 - val_loss: 0.4667 - val_accuracy: 0.7878\n",
      "Epoch 17/100\n",
      "313/313 [==============================] - 6s 20ms/step - loss: 0.4555 - accuracy: 0.7962 - val_loss: 0.4605 - val_accuracy: 0.7924\n",
      "Epoch 18/100\n",
      "313/313 [==============================] - 7s 22ms/step - loss: 0.4503 - accuracy: 0.7990 - val_loss: 0.4568 - val_accuracy: 0.7932\n",
      "Epoch 19/100\n",
      "313/313 [==============================] - 7s 22ms/step - loss: 0.4481 - accuracy: 0.7995 - val_loss: 0.4533 - val_accuracy: 0.7956\n",
      "Epoch 20/100\n",
      "313/313 [==============================] - 7s 22ms/step - loss: 0.4438 - accuracy: 0.8002 - val_loss: 0.4506 - val_accuracy: 0.7950\n",
      "Epoch 21/100\n",
      "313/313 [==============================] - 6s 20ms/step - loss: 0.4413 - accuracy: 0.8037 - val_loss: 0.4482 - val_accuracy: 0.7962\n",
      "Epoch 22/100\n",
      "313/313 [==============================] - 6s 20ms/step - loss: 0.4383 - accuracy: 0.8023 - val_loss: 0.4461 - val_accuracy: 0.7962\n",
      "Epoch 23/100\n",
      "313/313 [==============================] - 6s 20ms/step - loss: 0.4348 - accuracy: 0.8052 - val_loss: 0.4436 - val_accuracy: 0.7962\n",
      "Epoch 24/100\n",
      "313/313 [==============================] - 6s 20ms/step - loss: 0.4330 - accuracy: 0.8041 - val_loss: 0.4423 - val_accuracy: 0.7976\n",
      "Epoch 25/100\n",
      "313/313 [==============================] - 6s 20ms/step - loss: 0.4299 - accuracy: 0.8087 - val_loss: 0.4405 - val_accuracy: 0.7990\n",
      "Epoch 26/100\n",
      "313/313 [==============================] - 6s 21ms/step - loss: 0.4298 - accuracy: 0.8055 - val_loss: 0.4396 - val_accuracy: 0.7990\n",
      "Epoch 27/100\n",
      "313/313 [==============================] - 6s 20ms/step - loss: 0.4282 - accuracy: 0.8062 - val_loss: 0.4419 - val_accuracy: 0.7960\n",
      "Epoch 28/100\n",
      "313/313 [==============================] - 6s 20ms/step - loss: 0.4259 - accuracy: 0.8085 - val_loss: 0.4416 - val_accuracy: 0.7984\n",
      "Epoch 29/100\n",
      "313/313 [==============================] - 6s 20ms/step - loss: 0.4248 - accuracy: 0.8095 - val_loss: 0.4366 - val_accuracy: 0.7996\n",
      "Epoch 30/100\n",
      "313/313 [==============================] - 7s 21ms/step - loss: 0.4234 - accuracy: 0.8110 - val_loss: 0.4368 - val_accuracy: 0.8006\n",
      "Epoch 31/100\n",
      "313/313 [==============================] - 6s 21ms/step - loss: 0.4226 - accuracy: 0.8101 - val_loss: 0.4362 - val_accuracy: 0.8036\n",
      "Epoch 32/100\n",
      "313/313 [==============================] - 6s 20ms/step - loss: 0.4214 - accuracy: 0.8095 - val_loss: 0.4335 - val_accuracy: 0.7988\n",
      "Epoch 33/100\n",
      "313/313 [==============================] - 6s 20ms/step - loss: 0.4199 - accuracy: 0.8106 - val_loss: 0.4324 - val_accuracy: 0.8006\n",
      "Epoch 34/100\n",
      "313/313 [==============================] - 7s 21ms/step - loss: 0.4197 - accuracy: 0.8087 - val_loss: 0.4317 - val_accuracy: 0.8044\n",
      "Epoch 35/100\n",
      "313/313 [==============================] - 7s 21ms/step - loss: 0.4177 - accuracy: 0.8120 - val_loss: 0.4324 - val_accuracy: 0.7996\n",
      "Epoch 36/100\n",
      "313/313 [==============================] - 7s 21ms/step - loss: 0.4160 - accuracy: 0.8120 - val_loss: 0.4305 - val_accuracy: 0.8030\n",
      "Epoch 37/100\n",
      "313/313 [==============================] - 6s 20ms/step - loss: 0.4164 - accuracy: 0.8140 - val_loss: 0.4304 - val_accuracy: 0.8020\n",
      "Epoch 38/100\n",
      "313/313 [==============================] - 6s 20ms/step - loss: 0.4163 - accuracy: 0.8091 - val_loss: 0.4299 - val_accuracy: 0.8026\n",
      "Epoch 39/100\n",
      "313/313 [==============================] - 6s 20ms/step - loss: 0.4150 - accuracy: 0.8111 - val_loss: 0.4288 - val_accuracy: 0.8066\n",
      "Epoch 40/100\n",
      "313/313 [==============================] - 6s 20ms/step - loss: 0.4149 - accuracy: 0.8134 - val_loss: 0.4294 - val_accuracy: 0.8012\n",
      "Epoch 41/100\n",
      "313/313 [==============================] - 6s 20ms/step - loss: 0.4118 - accuracy: 0.8156 - val_loss: 0.4278 - val_accuracy: 0.8056\n",
      "Epoch 42/100\n",
      "313/313 [==============================] - 6s 20ms/step - loss: 0.4136 - accuracy: 0.8115 - val_loss: 0.4271 - val_accuracy: 0.8046\n",
      "Epoch 43/100\n",
      "313/313 [==============================] - 6s 20ms/step - loss: 0.4116 - accuracy: 0.8128 - val_loss: 0.4271 - val_accuracy: 0.8074\n",
      "Epoch 44/100\n",
      "313/313 [==============================] - 6s 20ms/step - loss: 0.4113 - accuracy: 0.8145 - val_loss: 0.4269 - val_accuracy: 0.8084\n",
      "Epoch 45/100\n",
      "313/313 [==============================] - 6s 20ms/step - loss: 0.4104 - accuracy: 0.8130 - val_loss: 0.4265 - val_accuracy: 0.8080\n",
      "Epoch 46/100\n",
      "313/313 [==============================] - 6s 20ms/step - loss: 0.4100 - accuracy: 0.8138 - val_loss: 0.4265 - val_accuracy: 0.8058\n",
      "Epoch 47/100\n",
      "313/313 [==============================] - 7s 21ms/step - loss: 0.4089 - accuracy: 0.8161 - val_loss: 0.4262 - val_accuracy: 0.8052\n",
      "Epoch 48/100\n",
      "313/313 [==============================] - 6s 20ms/step - loss: 0.4091 - accuracy: 0.8145 - val_loss: 0.4249 - val_accuracy: 0.8072\n",
      "Epoch 49/100\n",
      "313/313 [==============================] - 6s 20ms/step - loss: 0.4071 - accuracy: 0.8156 - val_loss: 0.4264 - val_accuracy: 0.8042\n",
      "Epoch 50/100\n",
      "313/313 [==============================] - 6s 20ms/step - loss: 0.4075 - accuracy: 0.8144 - val_loss: 0.4266 - val_accuracy: 0.8070\n",
      "Epoch 51/100\n",
      "313/313 [==============================] - 7s 22ms/step - loss: 0.4063 - accuracy: 0.8170 - val_loss: 0.4251 - val_accuracy: 0.8066\n"
     ]
    }
   ],
   "source": [
    "rmsprop=keras.optimizers.RMSprop(learning_rate=0.0001)\n",
    "model2.compile(optimizer=rmsprop,loss='binary_crossentropy',metrics=['accuracy'])\n",
    "checkpoint_cb=keras.callbacks.ModelCheckpoint('best-dropout-model.h5')\n",
    "early_stopping_cb=keras.callbacks.EarlyStopping(patience=3,restore_best_weights=True)\n",
    "history=model2.fit(train_seq,train_target,epochs=100,batch_size=64,validation_data=(val_seq,val_target),callbacks=[checkpoint_cb,early_stopping_cb])"
   ]
  },
  {
   "cell_type": "code",
   "execution_count": 9,
   "metadata": {},
   "outputs": [
    {
     "data": {
      "image/png": "[encoded data removed]",
      "text/plain": [
       "<Figure size 432x288 with 1 Axes>"
      ]
     },
     "metadata": {
      "needs_background": "light"
     },
     "output_type": "display_data"
    }
   ],
   "source": [
    "plt.plot(history.history['loss'])\n",
    "plt.plot(history.history['val_loss'])\n",
    "plt.legend(['train','val'])\n",
    "plt.show()"
   ]
  },
  {
   "cell_type": "code",
   "execution_count": 6,
   "metadata": {},
   "outputs": [],
   "source": [
    "model3=keras.Sequential()\n",
    "model3.add(keras.layers.Embedding(500,16,input_length=100))\n",
    "model3.add(keras.layers.LSTM(8,dropout=0.3,return_sequences=True))\n",
    "model3.add(keras.layers.LSTM(8,dropout=0.3))\n",
    "model3.add(keras.layers.Dense(1,activation='sigmoid'))"
   ]
  },
  {
   "cell_type": "code",
   "execution_count": 7,
   "metadata": {},
   "outputs": [
    {
     "name": "stdout",
     "output_type": "stream",
     "text": [
      "Model: \"sequential_1\"\n",
      "_________________________________________________________________\n",
      "Layer (type)                 Output Shape              Param #   \n",
      "=================================================================\n",
      "embedding_1 (Embedding)      (None, 100, 16)           8000      \n",
      "_________________________________________________________________\n",
      "lstm_1 (LSTM)                (None, 100, 8)            800       \n",
      "_________________________________________________________________\n",
      "lstm_2 (LSTM)                (None, 8)                 544       \n",
      "_________________________________________________________________\n",
      "dense_1 (Dense)              (None, 1)                 9         \n",
      "=================================================================\n",
      "Total params: 9,353\n",
      "Trainable params: 9,353\n",
      "Non-trainable params: 0\n",
      "_________________________________________________________________\n"
     ]
    }
   ],
   "source": [
    "model3.summary()"
   ]
  },
  {
   "cell_type": "code",
   "execution_count": 8,
   "metadata": {
    "scrolled": true
   },
   "outputs": [
    {
     "name": "stdout",
     "output_type": "stream",
     "text": [
      "Epoch 1/100\n",
      "313/313 [==============================] - 15s 39ms/step - loss: 0.6927 - accuracy: 0.5401 - val_loss: 0.6923 - val_accuracy: 0.5428\n",
      "Epoch 2/100\n",
      "313/313 [==============================] - 14s 44ms/step - loss: 0.6903 - accuracy: 0.6015 - val_loss: 0.6876 - val_accuracy: 0.6398\n",
      "Epoch 3/100\n",
      "313/313 [==============================] - 13s 41ms/step - loss: 0.6691 - accuracy: 0.6525 - val_loss: 0.6387 - val_accuracy: 0.6902\n",
      "Epoch 4/100\n",
      "313/313 [==============================] - 12s 38ms/step - loss: 0.6173 - accuracy: 0.7149 - val_loss: 0.6056 - val_accuracy: 0.7238\n",
      "Epoch 5/100\n",
      "313/313 [==============================] - 12s 38ms/step - loss: 0.5899 - accuracy: 0.7294 - val_loss: 0.5791 - val_accuracy: 0.7372\n",
      "Epoch 6/100\n",
      "313/313 [==============================] - 12s 37ms/step - loss: 0.5613 - accuracy: 0.7434 - val_loss: 0.5489 - val_accuracy: 0.7544\n",
      "Epoch 7/100\n",
      "313/313 [==============================] - 12s 37ms/step - loss: 0.5294 - accuracy: 0.7542 - val_loss: 0.5156 - val_accuracy: 0.7604\n",
      "Epoch 8/100\n",
      "313/313 [==============================] - 12s 37ms/step - loss: 0.5102 - accuracy: 0.7640 - val_loss: 0.5011 - val_accuracy: 0.7684\n",
      "Epoch 9/100\n",
      "313/313 [==============================] - 12s 37ms/step - loss: 0.4984 - accuracy: 0.7689 - val_loss: 0.4950 - val_accuracy: 0.7728\n",
      "Epoch 10/100\n",
      "313/313 [==============================] - 12s 37ms/step - loss: 0.4893 - accuracy: 0.7743 - val_loss: 0.4856 - val_accuracy: 0.7784\n",
      "Epoch 11/100\n",
      "313/313 [==============================] - 12s 37ms/step - loss: 0.4793 - accuracy: 0.7804 - val_loss: 0.4780 - val_accuracy: 0.7834\n",
      "Epoch 12/100\n",
      "313/313 [==============================] - 12s 37ms/step - loss: 0.4738 - accuracy: 0.7824 - val_loss: 0.4727 - val_accuracy: 0.7786\n",
      "Epoch 13/100\n",
      "313/313 [==============================] - 12s 38ms/step - loss: 0.4689 - accuracy: 0.7853 - val_loss: 0.4717 - val_accuracy: 0.7788\n",
      "Epoch 14/100\n",
      "313/313 [==============================] - 12s 37ms/step - loss: 0.4631 - accuracy: 0.7857 - val_loss: 0.4659 - val_accuracy: 0.7834\n",
      "Epoch 15/100\n",
      "313/313 [==============================] - 12s 37ms/step - loss: 0.4627 - accuracy: 0.7880 - val_loss: 0.4641 - val_accuracy: 0.7840\n",
      "Epoch 16/100\n",
      "313/313 [==============================] - 12s 37ms/step - loss: 0.4583 - accuracy: 0.7883 - val_loss: 0.4627 - val_accuracy: 0.7862\n",
      "Epoch 17/100\n",
      "313/313 [==============================] - 12s 37ms/step - loss: 0.4573 - accuracy: 0.7891 - val_loss: 0.4603 - val_accuracy: 0.7850\n",
      "Epoch 18/100\n",
      "313/313 [==============================] - 11s 36ms/step - loss: 0.4549 - accuracy: 0.7910 - val_loss: 0.4591 - val_accuracy: 0.7862\n",
      "Epoch 19/100\n",
      "313/313 [==============================] - 11s 36ms/step - loss: 0.4514 - accuracy: 0.7929 - val_loss: 0.4596 - val_accuracy: 0.7864\n",
      "Epoch 20/100\n",
      "313/313 [==============================] - 11s 36ms/step - loss: 0.4493 - accuracy: 0.7923 - val_loss: 0.4646 - val_accuracy: 0.7878\n",
      "Epoch 21/100\n",
      "313/313 [==============================] - 11s 36ms/step - loss: 0.4480 - accuracy: 0.7950 - val_loss: 0.4559 - val_accuracy: 0.7874\n",
      "Epoch 22/100\n",
      "313/313 [==============================] - 11s 36ms/step - loss: 0.4480 - accuracy: 0.7947 - val_loss: 0.4537 - val_accuracy: 0.7902\n",
      "Epoch 23/100\n",
      "313/313 [==============================] - 12s 38ms/step - loss: 0.4439 - accuracy: 0.7988 - val_loss: 0.4542 - val_accuracy: 0.7920\n",
      "Epoch 24/100\n",
      "313/313 [==============================] - 12s 37ms/step - loss: 0.4434 - accuracy: 0.7970 - val_loss: 0.4514 - val_accuracy: 0.7940\n",
      "Epoch 25/100\n",
      "313/313 [==============================] - 12s 37ms/step - loss: 0.4423 - accuracy: 0.7979 - val_loss: 0.4529 - val_accuracy: 0.7872\n",
      "Epoch 26/100\n",
      "313/313 [==============================] - 12s 37ms/step - loss: 0.4394 - accuracy: 0.7992 - val_loss: 0.4503 - val_accuracy: 0.7932\n",
      "Epoch 27/100\n",
      "313/313 [==============================] - 12s 37ms/step - loss: 0.4402 - accuracy: 0.7969 - val_loss: 0.4496 - val_accuracy: 0.7964\n",
      "Epoch 28/100\n",
      "313/313 [==============================] - 13s 40ms/step - loss: 0.4383 - accuracy: 0.7975 - val_loss: 0.4477 - val_accuracy: 0.7944\n",
      "Epoch 29/100\n",
      "313/313 [==============================] - 12s 38ms/step - loss: 0.4378 - accuracy: 0.7988 - val_loss: 0.4484 - val_accuracy: 0.7964\n",
      "Epoch 30/100\n",
      "313/313 [==============================] - 12s 39ms/step - loss: 0.4350 - accuracy: 0.7999 - val_loss: 0.4490 - val_accuracy: 0.7964\n",
      "Epoch 31/100\n",
      "313/313 [==============================] - 12s 38ms/step - loss: 0.4336 - accuracy: 0.8011 - val_loss: 0.4449 - val_accuracy: 0.7946\n",
      "Epoch 32/100\n",
      "313/313 [==============================] - 12s 39ms/step - loss: 0.4336 - accuracy: 0.8004 - val_loss: 0.4455 - val_accuracy: 0.7914\n",
      "Epoch 33/100\n",
      "313/313 [==============================] - 12s 38ms/step - loss: 0.4322 - accuracy: 0.8021 - val_loss: 0.4461 - val_accuracy: 0.7884\n",
      "Epoch 34/100\n",
      "313/313 [==============================] - 12s 37ms/step - loss: 0.4314 - accuracy: 0.8033 - val_loss: 0.4428 - val_accuracy: 0.7952\n",
      "Epoch 35/100\n",
      "313/313 [==============================] - 12s 37ms/step - loss: 0.4283 - accuracy: 0.8031 - val_loss: 0.4426 - val_accuracy: 0.7980\n",
      "Epoch 36/100\n",
      "313/313 [==============================] - 12s 37ms/step - loss: 0.4287 - accuracy: 0.8045 - val_loss: 0.4438 - val_accuracy: 0.7968\n",
      "Epoch 37/100\n",
      "313/313 [==============================] - 12s 37ms/step - loss: 0.4269 - accuracy: 0.8048 - val_loss: 0.4419 - val_accuracy: 0.7962\n",
      "Epoch 38/100\n",
      "313/313 [==============================] - 12s 37ms/step - loss: 0.4261 - accuracy: 0.8066 - val_loss: 0.4403 - val_accuracy: 0.7960\n",
      "Epoch 39/100\n",
      "313/313 [==============================] - 12s 37ms/step - loss: 0.4254 - accuracy: 0.8051 - val_loss: 0.4394 - val_accuracy: 0.7970\n",
      "Epoch 40/100\n",
      "313/313 [==============================] - 12s 38ms/step - loss: 0.4243 - accuracy: 0.8050 - val_loss: 0.4387 - val_accuracy: 0.7972\n",
      "Epoch 41/100\n",
      "313/313 [==============================] - 12s 37ms/step - loss: 0.4253 - accuracy: 0.8062 - val_loss: 0.4376 - val_accuracy: 0.7990\n",
      "Epoch 42/100\n",
      "313/313 [==============================] - 12s 37ms/step - loss: 0.4220 - accuracy: 0.8068 - val_loss: 0.4391 - val_accuracy: 0.7994\n",
      "Epoch 43/100\n",
      "313/313 [==============================] - 12s 37ms/step - loss: 0.4216 - accuracy: 0.8059 - val_loss: 0.4376 - val_accuracy: 0.7986\n",
      "Epoch 44/100\n",
      "313/313 [==============================] - 12s 37ms/step - loss: 0.4227 - accuracy: 0.8053 - val_loss: 0.4437 - val_accuracy: 0.7996\n"
     ]
    }
   ],
   "source": [
    "rmsprop=keras.optimizers.RMSprop(learning_rate=0.0001)\n",
    "model3.compile(optimizer=rmsprop,loss='binary_crossentropy',metrics=['accuracy'])\n",
    "checkpoint_cb=keras.callbacks.ModelCheckpoint('best-2rnn-model.h5')\n",
    "early_stopping_cb=keras.callbacks.EarlyStopping(patience=3,restore_best_weights=True)\n",
    "history=model3.fit(train_seq,train_target,epochs=100,batch_size=64,validation_data=(val_seq,val_target),callbacks=[checkpoint_cb,early_stopping_cb])"
   ]
  },
  {
   "cell_type": "code",
   "execution_count": 9,
   "metadata": {},
   "outputs": [
    {
     "data": {
      "image/png": "[encoded data removed]",
      "text/plain": [
       "<Figure size 432x288 with 1 Axes>"
      ]
     },
     "metadata": {
      "needs_background": "light"
     },
     "output_type": "display_data"
    }
   ],
   "source": [
    "plt.plot(history.history['loss'])\n",
    "plt.plot(history.history['val_loss'])\n",
    "plt.legend(['train','val'])\n",
    "plt.show()"
   ]
  },
  {
   "cell_type": "code",
   "execution_count": 10,
   "metadata": {},
   "outputs": [],
   "source": [
    "model4=keras.Sequential()\n",
    "model4.add(keras.layers.Embedding(500,16,input_length=100))\n",
    "model4.add(keras.layers.GRU(8))\n",
    "model4.add(keras.layers.Dense(1,activation='sigmoid')) "
   ]
  },
  {
   "cell_type": "code",
   "execution_count": 11,
   "metadata": {
    "scrolled": true
   },
   "outputs": [
    {
     "name": "stdout",
     "output_type": "stream",
     "text": [
      "Epoch 1/100\n",
      "313/313 [==============================] - 8s 21ms/step - loss: 0.6923 - accuracy: 0.5307 - val_loss: 0.6914 - val_accuracy: 0.5446\n",
      "Epoch 2/100\n",
      "313/313 [==============================] - 6s 21ms/step - loss: 0.6898 - accuracy: 0.5713 - val_loss: 0.6887 - val_accuracy: 0.5736\n",
      "Epoch 3/100\n",
      "313/313 [==============================] - 6s 20ms/step - loss: 0.6859 - accuracy: 0.5939 - val_loss: 0.6844 - val_accuracy: 0.5962\n",
      "Epoch 4/100\n",
      "313/313 [==============================] - 6s 21ms/step - loss: 0.6800 - accuracy: 0.6119 - val_loss: 0.6779 - val_accuracy: 0.6114\n",
      "Epoch 5/100\n",
      "313/313 [==============================] - 6s 20ms/step - loss: 0.6712 - accuracy: 0.6273 - val_loss: 0.6682 - val_accuracy: 0.6252\n",
      "Epoch 6/100\n",
      "313/313 [==============================] - 6s 20ms/step - loss: 0.6587 - accuracy: 0.6420 - val_loss: 0.6544 - val_accuracy: 0.6390\n",
      "Epoch 7/100\n",
      "313/313 [==============================] - 6s 20ms/step - loss: 0.6409 - accuracy: 0.6546 - val_loss: 0.6353 - val_accuracy: 0.6560\n",
      "Epoch 8/100\n",
      "313/313 [==============================] - 6s 21ms/step - loss: 0.6152 - accuracy: 0.6765 - val_loss: 0.6068 - val_accuracy: 0.6792\n",
      "Epoch 9/100\n",
      "313/313 [==============================] - 6s 21ms/step - loss: 0.5768 - accuracy: 0.7020 - val_loss: 0.5649 - val_accuracy: 0.7156\n",
      "Epoch 10/100\n",
      "313/313 [==============================] - 6s 20ms/step - loss: 0.5332 - accuracy: 0.7367 - val_loss: 0.5307 - val_accuracy: 0.7410\n",
      "Epoch 11/100\n",
      "313/313 [==============================] - 6s 20ms/step - loss: 0.5069 - accuracy: 0.7584 - val_loss: 0.5169 - val_accuracy: 0.7466\n",
      "Epoch 12/100\n",
      "313/313 [==============================] - 6s 20ms/step - loss: 0.4947 - accuracy: 0.7649 - val_loss: 0.5059 - val_accuracy: 0.7628\n",
      "Epoch 13/100\n",
      "313/313 [==============================] - 6s 21ms/step - loss: 0.4849 - accuracy: 0.7720 - val_loss: 0.4974 - val_accuracy: 0.7622\n",
      "Epoch 14/100\n",
      "313/313 [==============================] - 6s 20ms/step - loss: 0.4771 - accuracy: 0.7767 - val_loss: 0.4918 - val_accuracy: 0.7658\n",
      "Epoch 15/100\n",
      "313/313 [==============================] - 7s 21ms/step - loss: 0.4702 - accuracy: 0.7819 - val_loss: 0.4877 - val_accuracy: 0.7690\n",
      "Epoch 16/100\n",
      "313/313 [==============================] - 7s 21ms/step - loss: 0.4649 - accuracy: 0.7846 - val_loss: 0.4810 - val_accuracy: 0.7750\n",
      "Epoch 17/100\n",
      "313/313 [==============================] - 7s 22ms/step - loss: 0.4598 - accuracy: 0.7872 - val_loss: 0.4780 - val_accuracy: 0.7742\n",
      "Epoch 18/100\n",
      "313/313 [==============================] - 7s 22ms/step - loss: 0.4555 - accuracy: 0.7922 - val_loss: 0.4781 - val_accuracy: 0.7692\n",
      "Epoch 19/100\n",
      "313/313 [==============================] - 7s 22ms/step - loss: 0.4512 - accuracy: 0.7936 - val_loss: 0.4705 - val_accuracy: 0.7804\n",
      "Epoch 20/100\n",
      "313/313 [==============================] - 8s 25ms/step - loss: 0.4480 - accuracy: 0.7963 - val_loss: 0.4683 - val_accuracy: 0.7828\n",
      "Epoch 21/100\n",
      "313/313 [==============================] - 7s 22ms/step - loss: 0.4451 - accuracy: 0.7979 - val_loss: 0.4650 - val_accuracy: 0.7792\n",
      "Epoch 22/100\n",
      "313/313 [==============================] - 7s 22ms/step - loss: 0.4421 - accuracy: 0.8004 - val_loss: 0.4629 - val_accuracy: 0.7844\n",
      "Epoch 23/100\n",
      "313/313 [==============================] - 7s 21ms/step - loss: 0.4402 - accuracy: 0.8036 - val_loss: 0.4616 - val_accuracy: 0.7820\n",
      "Epoch 24/100\n",
      "313/313 [==============================] - 7s 21ms/step - loss: 0.4375 - accuracy: 0.8030 - val_loss: 0.4602 - val_accuracy: 0.7860\n",
      "Epoch 25/100\n",
      "313/313 [==============================] - 6s 21ms/step - loss: 0.4356 - accuracy: 0.8048 - val_loss: 0.4581 - val_accuracy: 0.7846\n",
      "Epoch 26/100\n",
      "313/313 [==============================] - 7s 21ms/step - loss: 0.4337 - accuracy: 0.8060 - val_loss: 0.4571 - val_accuracy: 0.7858\n",
      "Epoch 27/100\n",
      "313/313 [==============================] - 7s 22ms/step - loss: 0.4321 - accuracy: 0.8067 - val_loss: 0.4556 - val_accuracy: 0.7868\n",
      "Epoch 28/100\n",
      "313/313 [==============================] - 7s 22ms/step - loss: 0.4306 - accuracy: 0.8067 - val_loss: 0.4563 - val_accuracy: 0.7846\n",
      "Epoch 29/100\n",
      "313/313 [==============================] - 7s 21ms/step - loss: 0.4292 - accuracy: 0.8098 - val_loss: 0.4562 - val_accuracy: 0.7830\n",
      "Epoch 30/100\n",
      "313/313 [==============================] - 6s 20ms/step - loss: 0.4278 - accuracy: 0.8094 - val_loss: 0.4530 - val_accuracy: 0.7900\n",
      "Epoch 31/100\n",
      "313/313 [==============================] - 6s 20ms/step - loss: 0.4268 - accuracy: 0.8099 - val_loss: 0.4520 - val_accuracy: 0.7918\n",
      "Epoch 32/100\n",
      "313/313 [==============================] - 6s 20ms/step - loss: 0.4258 - accuracy: 0.8106 - val_loss: 0.4515 - val_accuracy: 0.7902\n",
      "Epoch 33/100\n",
      "313/313 [==============================] - 6s 20ms/step - loss: 0.4243 - accuracy: 0.8112 - val_loss: 0.4536 - val_accuracy: 0.7896\n",
      "Epoch 34/100\n",
      "313/313 [==============================] - 6s 20ms/step - loss: 0.4237 - accuracy: 0.8124 - val_loss: 0.4518 - val_accuracy: 0.7880\n",
      "Epoch 35/100\n",
      "313/313 [==============================] - 6s 20ms/step - loss: 0.4230 - accuracy: 0.8127 - val_loss: 0.4501 - val_accuracy: 0.7918\n",
      "Epoch 36/100\n",
      "313/313 [==============================] - 6s 21ms/step - loss: 0.4223 - accuracy: 0.8113 - val_loss: 0.4497 - val_accuracy: 0.7920\n",
      "Epoch 37/100\n",
      "313/313 [==============================] - 7s 21ms/step - loss: 0.4212 - accuracy: 0.8124 - val_loss: 0.4486 - val_accuracy: 0.7906\n",
      "Epoch 38/100\n",
      "313/313 [==============================] - 6s 20ms/step - loss: 0.4207 - accuracy: 0.8131 - val_loss: 0.4477 - val_accuracy: 0.7926\n",
      "Epoch 39/100\n",
      "313/313 [==============================] - 6s 20ms/step - loss: 0.4199 - accuracy: 0.8139 - val_loss: 0.4479 - val_accuracy: 0.7896\n",
      "Epoch 40/100\n",
      "313/313 [==============================] - 7s 21ms/step - loss: 0.4192 - accuracy: 0.8139 - val_loss: 0.4467 - val_accuracy: 0.7926\n",
      "Epoch 41/100\n",
      "313/313 [==============================] - 7s 21ms/step - loss: 0.4181 - accuracy: 0.8150 - val_loss: 0.4491 - val_accuracy: 0.7888\n",
      "Epoch 42/100\n",
      "313/313 [==============================] - 7s 22ms/step - loss: 0.4171 - accuracy: 0.8163 - val_loss: 0.4476 - val_accuracy: 0.7866\n",
      "Epoch 43/100\n",
      "313/313 [==============================] - 6s 20ms/step - loss: 0.4172 - accuracy: 0.8151 - val_loss: 0.4458 - val_accuracy: 0.7930\n",
      "Epoch 44/100\n",
      "313/313 [==============================] - 6s 21ms/step - loss: 0.4170 - accuracy: 0.8148 - val_loss: 0.4438 - val_accuracy: 0.7958\n",
      "Epoch 45/100\n",
      "313/313 [==============================] - 6s 20ms/step - loss: 0.4163 - accuracy: 0.8156 - val_loss: 0.4457 - val_accuracy: 0.7916\n",
      "Epoch 46/100\n",
      "313/313 [==============================] - 6s 20ms/step - loss: 0.4157 - accuracy: 0.8157 - val_loss: 0.4438 - val_accuracy: 0.7912\n",
      "Epoch 47/100\n",
      "313/313 [==============================] - 6s 21ms/step - loss: 0.4148 - accuracy: 0.8170 - val_loss: 0.4465 - val_accuracy: 0.7918\n",
      "Epoch 48/100\n",
      "313/313 [==============================] - 7s 21ms/step - loss: 0.4145 - accuracy: 0.8156 - val_loss: 0.4448 - val_accuracy: 0.7882\n",
      "Epoch 49/100\n",
      "313/313 [==============================] - 6s 21ms/step - loss: 0.4144 - accuracy: 0.8164 - val_loss: 0.4421 - val_accuracy: 0.7962\n",
      "Epoch 50/100\n",
      "313/313 [==============================] - 7s 22ms/step - loss: 0.4139 - accuracy: 0.8162 - val_loss: 0.4408 - val_accuracy: 0.7966\n",
      "Epoch 51/100\n",
      "313/313 [==============================] - 7s 21ms/step - loss: 0.4133 - accuracy: 0.8166 - val_loss: 0.4410 - val_accuracy: 0.7944\n",
      "Epoch 52/100\n",
      "313/313 [==============================] - 7s 23ms/step - loss: 0.4128 - accuracy: 0.8164 - val_loss: 0.4400 - val_accuracy: 0.7942\n",
      "Epoch 53/100\n",
      "313/313 [==============================] - 7s 22ms/step - loss: 0.4122 - accuracy: 0.8166 - val_loss: 0.4405 - val_accuracy: 0.7958\n",
      "Epoch 54/100\n",
      "313/313 [==============================] - 6s 20ms/step - loss: 0.4119 - accuracy: 0.8159 - val_loss: 0.4401 - val_accuracy: 0.7942\n",
      "Epoch 55/100\n",
      "313/313 [==============================] - 6s 20ms/step - loss: 0.4115 - accuracy: 0.8165 - val_loss: 0.4394 - val_accuracy: 0.7952\n",
      "Epoch 56/100\n",
      "313/313 [==============================] - 6s 20ms/step - loss: 0.4110 - accuracy: 0.8166 - val_loss: 0.4402 - val_accuracy: 0.7962\n",
      "Epoch 57/100\n"
     ]
    },
    {
     "name": "stdout",
     "output_type": "stream",
     "text": [
      "313/313 [==============================] - 6s 20ms/step - loss: 0.4107 - accuracy: 0.8159 - val_loss: 0.4372 - val_accuracy: 0.7972\n",
      "Epoch 58/100\n",
      "313/313 [==============================] - 6s 20ms/step - loss: 0.4100 - accuracy: 0.8170 - val_loss: 0.4381 - val_accuracy: 0.7966\n",
      "Epoch 59/100\n",
      "313/313 [==============================] - 6s 20ms/step - loss: 0.4099 - accuracy: 0.8163 - val_loss: 0.4383 - val_accuracy: 0.7964\n",
      "Epoch 60/100\n",
      "313/313 [==============================] - 6s 20ms/step - loss: 0.4097 - accuracy: 0.8169 - val_loss: 0.4364 - val_accuracy: 0.7976\n",
      "Epoch 61/100\n",
      "313/313 [==============================] - 6s 20ms/step - loss: 0.4089 - accuracy: 0.8177 - val_loss: 0.4364 - val_accuracy: 0.7972\n",
      "Epoch 62/100\n",
      "313/313 [==============================] - 6s 20ms/step - loss: 0.4089 - accuracy: 0.8180 - val_loss: 0.4376 - val_accuracy: 0.7950\n",
      "Epoch 63/100\n",
      "313/313 [==============================] - 6s 20ms/step - loss: 0.4081 - accuracy: 0.8164 - val_loss: 0.4350 - val_accuracy: 0.7986\n",
      "Epoch 64/100\n",
      "313/313 [==============================] - 6s 20ms/step - loss: 0.4082 - accuracy: 0.8173 - val_loss: 0.4344 - val_accuracy: 0.7996\n",
      "Epoch 65/100\n",
      "313/313 [==============================] - 6s 20ms/step - loss: 0.4072 - accuracy: 0.8184 - val_loss: 0.4398 - val_accuracy: 0.7920\n",
      "Epoch 66/100\n",
      "313/313 [==============================] - 6s 20ms/step - loss: 0.4069 - accuracy: 0.8190 - val_loss: 0.4339 - val_accuracy: 0.7984\n",
      "Epoch 67/100\n",
      "313/313 [==============================] - 6s 20ms/step - loss: 0.4068 - accuracy: 0.8180 - val_loss: 0.4382 - val_accuracy: 0.7988\n",
      "Epoch 68/100\n",
      "313/313 [==============================] - 6s 20ms/step - loss: 0.4064 - accuracy: 0.8188 - val_loss: 0.4338 - val_accuracy: 0.8008\n",
      "Epoch 69/100\n",
      "313/313 [==============================] - 6s 20ms/step - loss: 0.4056 - accuracy: 0.8192 - val_loss: 0.4363 - val_accuracy: 0.7944\n",
      "Epoch 70/100\n",
      "313/313 [==============================] - 6s 20ms/step - loss: 0.4056 - accuracy: 0.8173 - val_loss: 0.4318 - val_accuracy: 0.8020\n",
      "Epoch 71/100\n",
      "313/313 [==============================] - 6s 20ms/step - loss: 0.4053 - accuracy: 0.8170 - val_loss: 0.4338 - val_accuracy: 0.7984\n",
      "Epoch 72/100\n",
      "313/313 [==============================] - 6s 20ms/step - loss: 0.4048 - accuracy: 0.8189 - val_loss: 0.4327 - val_accuracy: 0.7984\n",
      "Epoch 73/100\n",
      "313/313 [==============================] - 6s 20ms/step - loss: 0.4046 - accuracy: 0.8186 - val_loss: 0.4317 - val_accuracy: 0.7996\n",
      "Epoch 74/100\n",
      "313/313 [==============================] - 6s 20ms/step - loss: 0.4042 - accuracy: 0.8186 - val_loss: 0.4322 - val_accuracy: 0.8018\n",
      "Epoch 75/100\n",
      "313/313 [==============================] - 6s 20ms/step - loss: 0.4037 - accuracy: 0.8190 - val_loss: 0.4313 - val_accuracy: 0.8004\n",
      "Epoch 76/100\n",
      "313/313 [==============================] - 6s 20ms/step - loss: 0.4032 - accuracy: 0.8192 - val_loss: 0.4317 - val_accuracy: 0.8014\n",
      "Epoch 77/100\n",
      "313/313 [==============================] - 6s 20ms/step - loss: 0.4031 - accuracy: 0.8188 - val_loss: 0.4316 - val_accuracy: 0.8010\n",
      "Epoch 78/100\n",
      "313/313 [==============================] - 6s 20ms/step - loss: 0.4025 - accuracy: 0.8192 - val_loss: 0.4304 - val_accuracy: 0.7998\n",
      "Epoch 79/100\n",
      "313/313 [==============================] - 6s 20ms/step - loss: 0.4023 - accuracy: 0.8192 - val_loss: 0.4298 - val_accuracy: 0.8028\n",
      "Epoch 80/100\n",
      "313/313 [==============================] - 6s 20ms/step - loss: 0.4017 - accuracy: 0.8194 - val_loss: 0.4288 - val_accuracy: 0.8012\n",
      "Epoch 81/100\n",
      "313/313 [==============================] - 6s 20ms/step - loss: 0.4015 - accuracy: 0.8194 - val_loss: 0.4289 - val_accuracy: 0.8012\n",
      "Epoch 82/100\n",
      "313/313 [==============================] - 6s 20ms/step - loss: 0.4008 - accuracy: 0.8196 - val_loss: 0.4292 - val_accuracy: 0.8022\n",
      "Epoch 83/100\n",
      "313/313 [==============================] - 6s 20ms/step - loss: 0.4004 - accuracy: 0.8199 - val_loss: 0.4280 - val_accuracy: 0.8036\n",
      "Epoch 84/100\n",
      "313/313 [==============================] - 6s 20ms/step - loss: 0.4002 - accuracy: 0.8202 - val_loss: 0.4284 - val_accuracy: 0.8022\n",
      "Epoch 85/100\n",
      "313/313 [==============================] - 6s 20ms/step - loss: 0.3995 - accuracy: 0.8199 - val_loss: 0.4266 - val_accuracy: 0.8026\n",
      "Epoch 86/100\n",
      "313/313 [==============================] - 6s 20ms/step - loss: 0.3991 - accuracy: 0.8202 - val_loss: 0.4279 - val_accuracy: 0.8038\n",
      "Epoch 87/100\n",
      "313/313 [==============================] - 6s 20ms/step - loss: 0.3986 - accuracy: 0.8202 - val_loss: 0.4266 - val_accuracy: 0.8042\n",
      "Epoch 88/100\n",
      "313/313 [==============================] - 6s 20ms/step - loss: 0.3979 - accuracy: 0.8212 - val_loss: 0.4265 - val_accuracy: 0.8032\n",
      "Epoch 89/100\n",
      "313/313 [==============================] - 6s 20ms/step - loss: 0.3976 - accuracy: 0.8231 - val_loss: 0.4252 - val_accuracy: 0.8016\n",
      "Epoch 90/100\n",
      "313/313 [==============================] - 6s 20ms/step - loss: 0.3972 - accuracy: 0.8216 - val_loss: 0.4252 - val_accuracy: 0.8024\n",
      "Epoch 91/100\n",
      "313/313 [==============================] - 6s 20ms/step - loss: 0.3968 - accuracy: 0.8219 - val_loss: 0.4244 - val_accuracy: 0.8036\n",
      "Epoch 92/100\n",
      "313/313 [==============================] - 6s 21ms/step - loss: 0.3962 - accuracy: 0.8217 - val_loss: 0.4239 - val_accuracy: 0.8044\n",
      "Epoch 93/100\n",
      "313/313 [==============================] - 6s 20ms/step - loss: 0.3959 - accuracy: 0.8221 - val_loss: 0.4238 - val_accuracy: 0.8032\n",
      "Epoch 94/100\n",
      "313/313 [==============================] - 6s 20ms/step - loss: 0.3952 - accuracy: 0.8225 - val_loss: 0.4231 - val_accuracy: 0.8028\n",
      "Epoch 95/100\n",
      "313/313 [==============================] - 6s 20ms/step - loss: 0.3949 - accuracy: 0.8220 - val_loss: 0.4231 - val_accuracy: 0.8030\n",
      "Epoch 96/100\n",
      "313/313 [==============================] - 6s 20ms/step - loss: 0.3943 - accuracy: 0.8222 - val_loss: 0.4229 - val_accuracy: 0.8034\n",
      "Epoch 97/100\n",
      "313/313 [==============================] - 6s 20ms/step - loss: 0.3935 - accuracy: 0.8245 - val_loss: 0.4252 - val_accuracy: 0.8028\n",
      "Epoch 98/100\n",
      "313/313 [==============================] - 6s 20ms/step - loss: 0.3933 - accuracy: 0.8242 - val_loss: 0.4305 - val_accuracy: 0.8020\n",
      "Epoch 99/100\n",
      "313/313 [==============================] - 6s 20ms/step - loss: 0.3928 - accuracy: 0.8241 - val_loss: 0.4223 - val_accuracy: 0.8058\n",
      "Epoch 100/100\n",
      "313/313 [==============================] - 6s 20ms/step - loss: 0.3924 - accuracy: 0.8246 - val_loss: 0.4219 - val_accuracy: 0.8054\n"
     ]
    }
   ],
   "source": [
    "rmsprop=keras.optimizers.RMSprop(learning_rate=0.0001)\n",
    "model4.compile(optimizer=rmsprop,loss='binary_crossentropy',metrics=['accuracy'])\n",
    "checkpoint_cb=keras.callbacks.ModelCheckpoint('best-gru-model.h5')\n",
    "early_stopping_cb=keras.callbacks.EarlyStopping(patience=3,restore_best_weights=True)\n",
    "history=model4.fit(train_seq,train_target,epochs=100,batch_size=64,validation_data=(val_seq,val_target),callbacks=[checkpoint_cb,early_stopping_cb])"
   ]
  },
  {
   "cell_type": "code",
   "execution_count": 12,
   "metadata": {},
   "outputs": [
    {
     "data": {
      "image/png": "[encoded data removed]",
      "text/plain": [
       "<Figure size 432x288 with 1 Axes>"
      ]
     },
     "metadata": {
      "needs_background": "light"
     },
     "output_type": "display_data"
    }
   ],
   "source": [
    "plt.plot(history.history['loss'])\n",
    "plt.plot(history.history['val_loss'])\n",
    "plt.legend(['train','val'])\n",
    "plt.show()"
   ]
  },
  {
   "cell_type": "code",
   "execution_count": 14,
   "metadata": {},
   "outputs": [
    {
     "name": "stdout",
     "output_type": "stream",
     "text": [
      "782/782 [==============================] - 6s 7ms/step - loss: 0.4342 - accuracy: 0.7976\n"
     ]
    },
    {
     "data": {
      "text/plain": [
       "[0.4341908097267151, 0.7976400256156921]"
      ]
     },
     "execution_count": 14,
     "metadata": {},
     "output_type": "execute_result"
    }
   ],
   "source": [
    "test_seq=pad_sequences(test_input,maxlen=100)\n",
    "rnn_model=keras.models.load_model('best-2rnn-model.h5')\n",
    "rnn_model.evaluate(test_seq,test_target)"
   ]
  },
  {
   "cell_type": "code",
   "execution_count": null,
   "metadata": {},
   "outputs": [],
   "source": []
  }
 ],
 "metadata": {
  "kernelspec": {
   "display_name": "Python 3",
   "language": "python",
   "name": "python3"
  },
  "language_info": {
   "codemirror_mode": {
    "name": "ipython",
    "version": 3
   },
   "file_extension": ".py",
   "mimetype": "text/x-python",
   "name": "python",
   "nbconvert_exporter": "python",
   "pygments_lexer": "ipython3",
   "version": "3.8.5"
  }
 },
 "nbformat": 4,
 "nbformat_minor": 4
}
